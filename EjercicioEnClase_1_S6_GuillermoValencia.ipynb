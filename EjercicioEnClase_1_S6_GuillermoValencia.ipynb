{
 "cells": [
  {
   "cell_type": "markdown",
   "metadata": {},
   "source": [
    "## Tarea 1\n",
    "##### Dataset de salarios (Científicos de datos)\n",
    "\n",
    "https://www.kaggle.com/datasets/iamsouravbanerjee/data-science-salaries-2023\n"
   ]
  },
  {
   "cell_type": "code",
   "execution_count": 32,
   "metadata": {
    "scrolled": true
   },
   "outputs": [
    {
     "data": {
      "text/html": [
       "<div>\n",
       "<style scoped>\n",
       "    .dataframe tbody tr th:only-of-type {\n",
       "        vertical-align: middle;\n",
       "    }\n",
       "\n",
       "    .dataframe tbody tr th {\n",
       "        vertical-align: top;\n",
       "    }\n",
       "\n",
       "    .dataframe thead th {\n",
       "        text-align: right;\n",
       "    }\n",
       "</style>\n",
       "<table border=\"1\" class=\"dataframe\">\n",
       "  <thead>\n",
       "    <tr style=\"text-align: right;\">\n",
       "      <th></th>\n",
       "      <th>Job Title</th>\n",
       "      <th>Employment Type</th>\n",
       "      <th>Experience Level</th>\n",
       "      <th>Expertise Level</th>\n",
       "      <th>Salary</th>\n",
       "      <th>Salary Currency</th>\n",
       "      <th>Company Location</th>\n",
       "      <th>Salary in USD</th>\n",
       "      <th>Employee Residence</th>\n",
       "      <th>Company Size</th>\n",
       "      <th>Year</th>\n",
       "    </tr>\n",
       "  </thead>\n",
       "  <tbody>\n",
       "    <tr>\n",
       "      <th>0</th>\n",
       "      <td>Data Engineer</td>\n",
       "      <td>Full-Time</td>\n",
       "      <td>Senior</td>\n",
       "      <td>Expert</td>\n",
       "      <td>210000</td>\n",
       "      <td>United States Dollar</td>\n",
       "      <td>United States</td>\n",
       "      <td>210000</td>\n",
       "      <td>United States</td>\n",
       "      <td>Medium</td>\n",
       "      <td>2023</td>\n",
       "    </tr>\n",
       "    <tr>\n",
       "      <th>1</th>\n",
       "      <td>Data Engineer</td>\n",
       "      <td>Full-Time</td>\n",
       "      <td>Senior</td>\n",
       "      <td>Expert</td>\n",
       "      <td>165000</td>\n",
       "      <td>United States Dollar</td>\n",
       "      <td>United States</td>\n",
       "      <td>165000</td>\n",
       "      <td>United States</td>\n",
       "      <td>Medium</td>\n",
       "      <td>2023</td>\n",
       "    </tr>\n",
       "    <tr>\n",
       "      <th>2</th>\n",
       "      <td>Data Engineer</td>\n",
       "      <td>Full-Time</td>\n",
       "      <td>Senior</td>\n",
       "      <td>Expert</td>\n",
       "      <td>185900</td>\n",
       "      <td>United States Dollar</td>\n",
       "      <td>United States</td>\n",
       "      <td>185900</td>\n",
       "      <td>United States</td>\n",
       "      <td>Medium</td>\n",
       "      <td>2023</td>\n",
       "    </tr>\n",
       "    <tr>\n",
       "      <th>3</th>\n",
       "      <td>Data Engineer</td>\n",
       "      <td>Full-Time</td>\n",
       "      <td>Senior</td>\n",
       "      <td>Expert</td>\n",
       "      <td>129300</td>\n",
       "      <td>United States Dollar</td>\n",
       "      <td>United States</td>\n",
       "      <td>129300</td>\n",
       "      <td>United States</td>\n",
       "      <td>Medium</td>\n",
       "      <td>2023</td>\n",
       "    </tr>\n",
       "    <tr>\n",
       "      <th>4</th>\n",
       "      <td>Data Scientist</td>\n",
       "      <td>Full-Time</td>\n",
       "      <td>Senior</td>\n",
       "      <td>Expert</td>\n",
       "      <td>140000</td>\n",
       "      <td>United States Dollar</td>\n",
       "      <td>United States</td>\n",
       "      <td>140000</td>\n",
       "      <td>United States</td>\n",
       "      <td>Medium</td>\n",
       "      <td>2023</td>\n",
       "    </tr>\n",
       "    <tr>\n",
       "      <th>5</th>\n",
       "      <td>Data Scientist</td>\n",
       "      <td>Full-Time</td>\n",
       "      <td>Senior</td>\n",
       "      <td>Expert</td>\n",
       "      <td>126000</td>\n",
       "      <td>United States Dollar</td>\n",
       "      <td>United States</td>\n",
       "      <td>126000</td>\n",
       "      <td>United States</td>\n",
       "      <td>Medium</td>\n",
       "      <td>2023</td>\n",
       "    </tr>\n",
       "    <tr>\n",
       "      <th>6</th>\n",
       "      <td>Data Scientist</td>\n",
       "      <td>Full-Time</td>\n",
       "      <td>Senior</td>\n",
       "      <td>Expert</td>\n",
       "      <td>170000</td>\n",
       "      <td>United States Dollar</td>\n",
       "      <td>United States</td>\n",
       "      <td>170000</td>\n",
       "      <td>United States</td>\n",
       "      <td>Medium</td>\n",
       "      <td>2023</td>\n",
       "    </tr>\n",
       "    <tr>\n",
       "      <th>7</th>\n",
       "      <td>Data Scientist</td>\n",
       "      <td>Full-Time</td>\n",
       "      <td>Senior</td>\n",
       "      <td>Expert</td>\n",
       "      <td>130000</td>\n",
       "      <td>United States Dollar</td>\n",
       "      <td>United States</td>\n",
       "      <td>130000</td>\n",
       "      <td>United States</td>\n",
       "      <td>Medium</td>\n",
       "      <td>2023</td>\n",
       "    </tr>\n",
       "    <tr>\n",
       "      <th>8</th>\n",
       "      <td>Data Engineer</td>\n",
       "      <td>Full-Time</td>\n",
       "      <td>Mid</td>\n",
       "      <td>Intermediate</td>\n",
       "      <td>85000</td>\n",
       "      <td>British Pound Sterling</td>\n",
       "      <td>United Kingdom</td>\n",
       "      <td>104584</td>\n",
       "      <td>United Kingdom</td>\n",
       "      <td>Medium</td>\n",
       "      <td>2023</td>\n",
       "    </tr>\n",
       "    <tr>\n",
       "      <th>9</th>\n",
       "      <td>Data Engineer</td>\n",
       "      <td>Full-Time</td>\n",
       "      <td>Mid</td>\n",
       "      <td>Intermediate</td>\n",
       "      <td>75000</td>\n",
       "      <td>British Pound Sterling</td>\n",
       "      <td>United Kingdom</td>\n",
       "      <td>92280</td>\n",
       "      <td>United Kingdom</td>\n",
       "      <td>Medium</td>\n",
       "      <td>2023</td>\n",
       "    </tr>\n",
       "  </tbody>\n",
       "</table>\n",
       "</div>"
      ],
      "text/plain": [
       "        Job Title Employment Type Experience Level Expertise Level  Salary  \\\n",
       "0   Data Engineer       Full-Time           Senior          Expert  210000   \n",
       "1   Data Engineer       Full-Time           Senior          Expert  165000   \n",
       "2   Data Engineer       Full-Time           Senior          Expert  185900   \n",
       "3   Data Engineer       Full-Time           Senior          Expert  129300   \n",
       "4  Data Scientist       Full-Time           Senior          Expert  140000   \n",
       "5  Data Scientist       Full-Time           Senior          Expert  126000   \n",
       "6  Data Scientist       Full-Time           Senior          Expert  170000   \n",
       "7  Data Scientist       Full-Time           Senior          Expert  130000   \n",
       "8   Data Engineer       Full-Time              Mid    Intermediate   85000   \n",
       "9   Data Engineer       Full-Time              Mid    Intermediate   75000   \n",
       "\n",
       "          Salary Currency Company Location  Salary in USD Employee Residence  \\\n",
       "0    United States Dollar    United States         210000      United States   \n",
       "1    United States Dollar    United States         165000      United States   \n",
       "2    United States Dollar    United States         185900      United States   \n",
       "3    United States Dollar    United States         129300      United States   \n",
       "4    United States Dollar    United States         140000      United States   \n",
       "5    United States Dollar    United States         126000      United States   \n",
       "6    United States Dollar    United States         170000      United States   \n",
       "7    United States Dollar    United States         130000      United States   \n",
       "8  British Pound Sterling   United Kingdom         104584     United Kingdom   \n",
       "9  British Pound Sterling   United Kingdom          92280     United Kingdom   \n",
       "\n",
       "  Company Size  Year  \n",
       "0       Medium  2023  \n",
       "1       Medium  2023  \n",
       "2       Medium  2023  \n",
       "3       Medium  2023  \n",
       "4       Medium  2023  \n",
       "5       Medium  2023  \n",
       "6       Medium  2023  \n",
       "7       Medium  2023  \n",
       "8       Medium  2023  \n",
       "9       Medium  2023  "
      ]
     },
     "execution_count": 32,
     "metadata": {},
     "output_type": "execute_result"
    }
   ],
   "source": [
    "import pandas as pd\n",
    "import matplotlib.pyplot as plt\n",
    "df = pd.read_csv(\"Latest_Data_Science_Salaries.csv\")\n",
    "df.head(10)"
   ]
  },
  {
   "cell_type": "markdown",
   "metadata": {},
   "source": [
    "# Ejercicio en Clase:\n",
    "\n",
    "Para este ejercicio debes realizar los siguientes pasos de manera anticipada los siguientes procesos:\n",
    "- Cargar el conjunto de datos desde un archivo CSV utilizando pandas.\n",
    "- Explorar y familiarizarse con la estructura del conjunto de datos.\n",
    "- Calcular estadísticas descriptivas, como el promedio, la mediana y la desviación estándar, de variables relevantes del conjunto de datos general.\n",
    "\n",
    "#### Acciones por ejecutar\n",
    "\n",
    "1. ¿Cúantos posibles \"Job Title\" existen en el Dataset?\n",
    "2. ¿Cúales son los \"Employment Type\" y en qué frecuencia se presentan en el Dataset?\n",
    "3. ¿Cuáles son los \"Expertise Level\" y \"Experience Level\" y cuál es el salario promedio general de cada uno?\n",
    "4. ¿Cuáles son los \"Salary Currency\" y a qué tasa está covertido respecto al dolar cada uno?\n",
    "5. ¿En cuántos paises diferentes se encuentran los empleados (\"Employee Residence\")?\n",
    "6. ¿Cuál salario promedio por \"Job Title\" agrupado?\n",
    "7. ¿Cuál es el salario promedio por país de residencia (Employee Residence)?\n",
    "8. ¿Cuál es el \"Salary in USD\" máximo y mínimo?¿A qué registro pertenece?\n",
    "9. ¿Cuál es el salario promedio (en USD) por rol por tamaño de compañía?\n",
    "10. muestre los datos agrupados por tamaño de la compañía, país y salario promedio."
   ]
  },
  {
   "cell_type": "markdown",
   "metadata": {},
   "source": [
    "### Propuesta de solución\n"
   ]
  },
  {
   "cell_type": "code",
   "execution_count": 9,
   "metadata": {},
   "outputs": [],
   "source": [
    "# Inserte la solución de cada pregunta"
   ]
  },
  {
   "cell_type": "code",
   "execution_count": 11,
   "metadata": {},
   "outputs": [],
   "source": [
    "import pandas as pd\n",
    "import matplotlib.pyplot as plt\n",
    "df = pd.read_csv('Latest_Data_Science_Salaries.csv')"
   ]
  },
  {
   "cell_type": "code",
   "execution_count": null,
   "metadata": {},
   "outputs": [],
   "source": [
    "#1. ¿Cúantos posibles \"Job Title\" existen en el Dataset?"
   ]
  },
  {
   "cell_type": "code",
   "execution_count": 13,
   "metadata": {},
   "outputs": [
    {
     "name": "stdout",
     "output_type": "stream",
     "text": [
      "Número de posibles Job Titles: 111\n"
     ]
    }
   ],
   "source": [
    "num_job_titles = df[\"Job Title\"].nunique()\n",
    "print(\"Número de posibles Job Titles:\", num_job_titles)"
   ]
  },
  {
   "cell_type": "code",
   "execution_count": null,
   "metadata": {},
   "outputs": [],
   "source": [
    "#2. ¿Cúales son los \"Employment Type\" y en qué frecuencia se presentan en el Dataset?"
   ]
  },
  {
   "cell_type": "code",
   "execution_count": 21,
   "metadata": {},
   "outputs": [
    {
     "name": "stdout",
     "output_type": "stream",
     "text": [
      "Frecuencia de Employment Type:\n",
      "Full-Time    3261\n",
      "Contract       15\n",
      "Part-Time      13\n",
      "Freelance      11\n",
      "Name: Employment Type, dtype: int64\n"
     ]
    }
   ],
   "source": [
    "employment_type_counts = df[\"Employment Type\"].value_counts()\n",
    "print(\"Frecuencia de Employment Type:\")\n",
    "print(employment_type_counts)"
   ]
  },
  {
   "cell_type": "code",
   "execution_count": null,
   "metadata": {},
   "outputs": [],
   "source": [
    "#3. ¿Cuáles son los \"Expertise Level\" y \"Experience Level\" y cuál es el salario promedio general de cada uno?"
   ]
  },
  {
   "cell_type": "code",
   "execution_count": 20,
   "metadata": {},
   "outputs": [
    {
     "name": "stdout",
     "output_type": "stream",
     "text": [
      "Salario promedio por Expertise Level:\n",
      "Expertise Level\n",
      "Director        191512.143836\n",
      "Expert          160277.513317\n",
      "Intermediate    108714.977415\n",
      "Junior           79921.479452\n",
      "Name: Salary in USD, dtype: float64\n",
      "\n",
      "Salario promedio por Experience Level:\n",
      "Experience Level\n",
      "Entry         79921.479452\n",
      "Executive    191512.143836\n",
      "Mid          108714.977415\n",
      "Senior       160277.513317\n",
      "Name: Salary in USD, dtype: float64\n"
     ]
    }
   ],
   "source": [
    "expertise_level_salary = df.groupby(\"Expertise Level\")[\"Salary in USD\"].mean()\n",
    "experience_level_salary = df.groupby(\"Experience Level\")[\"Salary in USD\"].mean()\n",
    "print(\"Salario promedio por Expertise Level:\")\n",
    "print(expertise_level_salary)\n",
    "print(\"\\nSalario promedio por Experience Level:\")\n",
    "print(experience_level_salary)"
   ]
  },
  {
   "cell_type": "code",
   "execution_count": null,
   "metadata": {},
   "outputs": [],
   "source": [
    "#4. ¿Cuáles son los \"Salary Currency\" y a qué tasa está covertido respecto al dolar cada uno?"
   ]
  },
  {
   "cell_type": "code",
   "execution_count": 36,
   "metadata": {},
   "outputs": [
    {
     "name": "stdout",
     "output_type": "stream",
     "text": [
      "Salary Currency\n",
      "Australian Dollar         0.701223\n",
      "Brazilian Real            0.192691\n",
      "British Pound Sterling    1.242022\n",
      "Canadian Dollar           0.770957\n",
      "Chilean Peso              0.001317\n",
      "Danish Krone              0.156956\n",
      "Euro                      1.094518\n",
      "Hong Kong Dollar          0.127565\n",
      "Hungarian Forint          0.003075\n",
      "Indian Rupee              0.012891\n",
      "Israeli New Shekel        0.278625\n",
      "Japanese Yen              0.008793\n",
      "Mexican Peso              0.046543\n",
      "Norwegian Krone           0.095635\n",
      "Philippine Peso           0.018106\n",
      "Polish Zloty              0.238586\n",
      "Singapore Dollar          0.742514\n",
      "South African Rand        0.054995\n",
      "Swiss Franc               1.066176\n",
      "Thai Baht                 0.029301\n",
      "Turkish Lira              0.091728\n",
      "United States Dollar      1.000000\n",
      "Name: Conversion Rate, dtype: float64\n"
     ]
    }
   ],
   "source": [
    "\n",
    "df['Conversion Rate'] = df['Salary in USD'] / df['Salary']\n",
    "conversion_rates = df.groupby('Salary Currency')['Conversion Rate'].mean()\n",
    "\n",
    "print(conversion_rates)"
   ]
  },
  {
   "cell_type": "code",
   "execution_count": null,
   "metadata": {},
   "outputs": [],
   "source": [
    "#5. ¿En cuántos paises diferentes se encuentran los empleados (\"Employee Residence\")?"
   ]
  },
  {
   "cell_type": "code",
   "execution_count": 18,
   "metadata": {},
   "outputs": [
    {
     "name": "stdout",
     "output_type": "stream",
     "text": [
      "Número de países diferentes en Employee Residence: 83\n"
     ]
    }
   ],
   "source": [
    "num_countries = df[\"Employee Residence\"].nunique()\n",
    "print(\"Número de países diferentes en Employee Residence:\", num_countries)"
   ]
  },
  {
   "cell_type": "code",
   "execution_count": null,
   "metadata": {},
   "outputs": [],
   "source": [
    "#6. ¿Cuál salario promedio por \"Job Title\" agrupado?"
   ]
  },
  {
   "cell_type": "code",
   "execution_count": 22,
   "metadata": {},
   "outputs": [
    {
     "name": "stdout",
     "output_type": "stream",
     "text": [
      "Salario promedio por Job Title:\n",
      "Job Title\n",
      "AI Architect                       237484.000000\n",
      "AI Developer                       133177.777778\n",
      "AI Programmer                       56021.750000\n",
      "AI Scientist                       114117.333333\n",
      "AWS Data Architect                 258000.000000\n",
      "                                       ...      \n",
      "Sales Data Analyst                  60000.000000\n",
      "Software Data Engineer             111627.666667\n",
      "Staff Data Analyst                  97499.000000\n",
      "Staff Data Scientist               134500.000000\n",
      "Staff Machine Learning Engineer    185000.000000\n",
      "Name: Salary in USD, Length: 111, dtype: float64\n"
     ]
    }
   ],
   "source": [
    "job_avg = df.groupby(\"Job Title\")[\"Salary in USD\"].mean()\n",
    "print(\"Salario promedio por Job Title:\")\n",
    "print(job_avg)"
   ]
  },
  {
   "cell_type": "code",
   "execution_count": null,
   "metadata": {},
   "outputs": [],
   "source": [
    "#7. ¿Cuál es el salario promedio por país de residencia (Employee Residence)?"
   ]
  },
  {
   "cell_type": "code",
   "execution_count": 23,
   "metadata": {},
   "outputs": [
    {
     "name": "stdout",
     "output_type": "stream",
     "text": [
      "Salario promedio por país de residencia:\n",
      "Employee Residence\n",
      "Algeria                 100000.000000\n",
      "American Samoa           45555.000000\n",
      "Andorra                  50745.000000\n",
      "Argentina                56444.444444\n",
      "Armenia                  50000.000000\n",
      "                            ...      \n",
      "United Arab Emirates    100000.000000\n",
      "United Kingdom          109147.424490\n",
      "United States           159794.726050\n",
      "Uzbekistan               82000.000000\n",
      "Viet Nam                 44200.000000\n",
      "Name: Salary in USD, Length: 83, dtype: float64\n"
     ]
    }
   ],
   "source": [
    "country_avg = df.groupby(\"Employee Residence\")[\"Salary in USD\"].mean()\n",
    "print(\"Salario promedio por país de residencia:\")\n",
    "print(country_avg)"
   ]
  },
  {
   "cell_type": "code",
   "execution_count": null,
   "metadata": {},
   "outputs": [],
   "source": [
    "#8. ¿Cuál es el \"Salary in USD\" máximo y mínimo?¿A qué registro pertenece?"
   ]
  },
  {
   "cell_type": "code",
   "execution_count": 24,
   "metadata": {},
   "outputs": [
    {
     "name": "stdout",
     "output_type": "stream",
     "text": [
      "\n",
      "Salario máximo: 450000\n",
      "Registro de salario máximo:\n",
      "               Job Title Employment Type Experience Level Expertise Level  \\\n",
      "3085  Research Scientist       Full-Time              Mid    Intermediate   \n",
      "\n",
      "      Salary       Salary Currency Company Location  Salary in USD  \\\n",
      "3085  450000  United States Dollar    United States         450000   \n",
      "\n",
      "     Employee Residence Company Size  Year  \n",
      "3085      United States       Medium  2020  \n",
      "\n",
      "Salario mínimo: 15000\n",
      "Registro de salario mínimo:\n",
      "                       Job Title Employment Type Experience Level  \\\n",
      "1335          Staff Data Analyst       Full-Time        Executive   \n",
      "2641  Machine Learning Developer       Full-Time            Entry   \n",
      "2826                Data Analyst       Full-Time            Entry   \n",
      "\n",
      "     Expertise Level  Salary       Salary Currency Company Location  \\\n",
      "1335        Director   15000  United States Dollar           Canada   \n",
      "2641          Junior   15000  United States Dollar         Thailand   \n",
      "2826          Junior   15000  United States Dollar        Indonesia   \n",
      "\n",
      "      Salary in USD Employee Residence Company Size  Year  \n",
      "1335          15000            Nigeria       Medium  2020  \n",
      "2641          15000           Thailand        Large  2021  \n",
      "2826          15000          Indonesia        Large  2022  \n"
     ]
    }
   ],
   "source": [
    "max_salary = df[\"Salary in USD\"].max()\n",
    "min_salary = df[\"Salary in USD\"].min()\n",
    "max_salary_record = df[df[\"Salary in USD\"] == max_salary]\n",
    "min_salary_record = df[df[\"Salary in USD\"] == min_salary]\n",
    "print(\"\\nSalario máximo:\", max_salary)\n",
    "print(\"Registro de salario máximo:\")\n",
    "print(max_salary_record)\n",
    "print(\"\\nSalario mínimo:\", min_salary)\n",
    "print(\"Registro de salario mínimo:\")\n",
    "print(min_salary_record)"
   ]
  },
  {
   "cell_type": "code",
   "execution_count": null,
   "metadata": {},
   "outputs": [],
   "source": [
    "#9. ¿Cuál es el salario promedio (en USD) por rol por tamaño de compañía?"
   ]
  },
  {
   "cell_type": "code",
   "execution_count": 37,
   "metadata": {},
   "outputs": [
    {
     "name": "stdout",
     "output_type": "stream",
     "text": [
      "Salario promedio por rol y tamaño de compañía:\n",
      "Job Title                        Company Size\n",
      "AI Architect                     Large           207968.0\n",
      "                                 Medium          267000.0\n",
      "AI Developer                     Large           215936.0\n",
      "                                 Medium           97944.0\n",
      "                                 Small           197500.0\n",
      "                                                   ...   \n",
      "Software Data Engineer           Medium           50000.0\n",
      "Staff Data Analyst               Medium           15000.0\n",
      "                                 Small           179998.0\n",
      "Staff Data Scientist             Medium          134500.0\n",
      "Staff Machine Learning Engineer  Medium          185000.0\n",
      "Name: Salary in USD, Length: 204, dtype: float64\n"
     ]
    }
   ],
   "source": [
    "role_company_avg = df.groupby([\"Job Title\", \"Company Size\"])[\"Salary in USD\"].mean()\n",
    "print(\"Salario promedio por rol y tamaño de compañía:\")\n",
    "print(role_company_avg)"
   ]
  },
  {
   "cell_type": "code",
   "execution_count": 26,
   "metadata": {},
   "outputs": [],
   "source": [
    "#10. Muestre los datos agrupados por tamaño de la compañía, país y salario promedio."
   ]
  },
  {
   "cell_type": "code",
   "execution_count": 29,
   "metadata": {},
   "outputs": [
    {
     "name": "stdout",
     "output_type": "stream",
     "text": [
      "Company Size  Employee Residence             \n",
      "Large         Argentina                           55000.000000\n",
      "              Australia                           77823.857143\n",
      "              Austria                             75141.666667\n",
      "              Belgium                            149994.500000\n",
      "              Bolivia, Plurinational State of     75000.000000\n",
      "                                                     ...      \n",
      "Small         Turkey                              60000.000000\n",
      "              Ukraine                             50000.000000\n",
      "              United Arab Emirates                92500.000000\n",
      "              United Kingdom                     100360.000000\n",
      "              United States                      123942.325581\n",
      "Name: Salary in USD, Length: 149, dtype: float64\n"
     ]
    }
   ],
   "source": [
    "company_country_salary_avg = df.groupby([\"Company Size\", \"Employee Residence\"])[\"Salary in USD\"].mean()\n",
    "print(company_country_salary_avg)"
   ]
  },
  {
   "cell_type": "code",
   "execution_count": null,
   "metadata": {},
   "outputs": [],
   "source": []
  },
  {
   "cell_type": "code",
   "execution_count": null,
   "metadata": {},
   "outputs": [],
   "source": []
  }
 ],
 "metadata": {
  "kernelspec": {
   "display_name": "Python 3 (ipykernel)",
   "language": "python",
   "name": "python3"
  },
  "language_info": {
   "codemirror_mode": {
    "name": "ipython",
    "version": 3
   },
   "file_extension": ".py",
   "mimetype": "text/x-python",
   "name": "python",
   "nbconvert_exporter": "python",
   "pygments_lexer": "ipython3",
   "version": "3.11.3"
  }
 },
 "nbformat": 4,
 "nbformat_minor": 4
}
